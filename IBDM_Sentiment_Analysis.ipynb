{
 "cells": [
  {
   "cell_type": "markdown",
   "id": "012bf67e-07e4-45d3-b2ac-bd4dde779309",
   "metadata": {},
   "source": [
    "# IBDM Sentiment Analysis "
   ]
  },
  {
   "cell_type": "markdown",
   "id": "833e68f2-8ea7-4fc3-a720-0832d1e51928",
   "metadata": {},
   "source": [
    "This proyect will use:\n",
    "- Kaggle IBDM sentiment Dataset "
   ]
  },
  {
   "cell_type": "markdown",
   "id": "12c012eb-5eaf-4924-8f35-79d31d5aec47",
   "metadata": {},
   "source": [
    "Libraries Used:\n",
    "\n",
    "- Pandas\n",
    "\n",
    "- Numpy\n",
    "\n",
    "- NLTK\n",
    "\n",
    "- Seaborn\n",
    "\n",
    "- Matpolib \n",
    "\n",
    "- Scikit-Learn"
   ]
  },
  {
   "cell_type": "markdown",
   "id": "b6ece8b0-5a62-4491-8bce-958702b05f11",
   "metadata": {},
   "source": [
    "# 0-Importing Libraries"
   ]
  },
  {
   "cell_type": "code",
   "execution_count": 1,
   "id": "e1d8c513-0386-4f84-9c23-7a6e2f248cd4",
   "metadata": {},
   "outputs": [],
   "source": [
    "import pandas as pd\n",
    "import numpy as np\n",
    "import matplotlib.pyplot as plt\n",
    "import seaborn as sns\n",
    "from sklearn.feature_extraction.text import CountVectorizer\n",
    "from sklearn.preprocessing import LabelBinarizer\n",
    "from sklearn.naive_bayes import MultinomialNB\n",
    "from sklearn.metrics import accuracy_score\n",
    "import nltk\n",
    "from nltk.tokenize import word_tokenize,sent_tokenize\n",
    "from nltk.corpus import stopwords\n",
    "from nltk.stem import PorterStemmer"
   ]
  },
  {
   "cell_type": "markdown",
   "id": "10337c0e-bd6c-4d2d-b498-7864f5f8a4d2",
   "metadata": {},
   "source": [
    "# 1-Data Exploration and Dataset Inicialization\n",
    "We Will:\n",
    "- 1-initialize dataset in df\n",
    "- 2-explore first 5 rows using head()\n",
    "- 3-Use Description() to get information from the dataset'\n",
    "- 4-Get Number of Sentiments classified in positive or negative"
   ]
  },
  {
   "cell_type": "code",
   "execution_count": 2,
   "id": "d4e7473d-e7fc-4a34-b30c-30f1be328b1f",
   "metadata": {},
   "outputs": [],
   "source": [
    "#1\n",
    "df=pd.read_csv(\"https://raw.githubusercontent.com/meghjoshii/NSDC_DataScienceProjects_SentimentAnalysis/main/IMDB%20Dataset.csv\")"
   ]
  },
  {
   "cell_type": "code",
   "execution_count": 3,
   "id": "3a4efbc2-9700-4ccd-8a1e-b8d43280eef4",
   "metadata": {},
   "outputs": [
    {
     "name": "stdout",
     "output_type": "stream",
     "text": [
      "                                              review sentiment\n",
      "0  One of the other reviewers has mentioned that ...  positive\n",
      "1  A wonderful little production. <br /><br />The...  positive\n",
      "2  I thought this was a wonderful way to spend ti...  positive\n",
      "3  Basically there's a family where a little boy ...  negative\n",
      "4  Petter Mattei's \"Love in the Time of Money\" is...  positive\n"
     ]
    }
   ],
   "source": [
    "#2\n",
    "print(df.head())"
   ]
  },
  {
   "cell_type": "markdown",
   "id": "ea250712-b415-42d3-b116-772fe5c8c896",
   "metadata": {},
   "source": [
    "                                Format: Index -  some review text - sentiment "
   ]
  },
  {
   "cell_type": "code",
   "execution_count": 4,
   "id": "763fa7dc-b303-440b-9ede-b00f9ed8ae4d",
   "metadata": {},
   "outputs": [
    {
     "name": "stdout",
     "output_type": "stream",
     "text": [
      "                                                   review sentiment\n",
      "count                                               50000     50000\n",
      "unique                                              49582         2\n",
      "top     Loved today's show!!! It was a variety and not...  positive\n",
      "freq                                                    5     25000\n"
     ]
    }
   ],
   "source": [
    "#3\n",
    "print(df.describe())"
   ]
  },
  {
   "cell_type": "markdown",
   "id": "661751dd-3158-4353-8ebf-529fa5410bf5",
   "metadata": {},
   "source": [
    "                              information gathered: Count: 50k reviews      "
   ]
  },
  {
   "cell_type": "code",
   "execution_count": 5,
   "id": "ce1b2b74-ef21-4094-92ac-c6cff5da9b63",
   "metadata": {},
   "outputs": [
    {
     "name": "stdout",
     "output_type": "stream",
     "text": [
      "sentiment\n",
      "positive    25000\n",
      "negative    25000\n",
      "Name: count, dtype: int64\n"
     ]
    }
   ],
   "source": [
    "#4\n",
    "print(df['sentiment'].value_counts())"
   ]
  },
  {
   "cell_type": "markdown",
   "id": "d3a615fa-40a6-40cb-8294-1be3bac43e96",
   "metadata": {},
   "source": [
    "                             Data Imbalance?: No, 25k positive and 25k negative reviews , balanced number of reviews"
   ]
  },
  {
   "cell_type": "markdown",
   "id": "ad9a0138-6f84-49a2-9cbb-0e932f41fa2c",
   "metadata": {},
   "source": [
    "# 2-Tokenization"
   ]
  },
  {
   "cell_type": "code",
   "execution_count": 6,
   "id": "20f77af0-e7eb-47a1-a441-a3317febe37c",
   "metadata": {},
   "outputs": [
    {
     "name": "stdout",
     "output_type": "stream",
     "text": [
      "['A', 'wonderful', 'little', 'production', '.', '<', 'br', '/', '>', '<', 'br', '/', '>', 'The', 'filming', 'technique', 'is', 'very', 'unassuming-', 'very', 'old-time-BBC', 'fashion', 'and', 'gives', 'a', 'comforting', ',', 'and', 'sometimes', 'discomforting', ',', 'sense', 'of', 'realism', 'to', 'the', 'entire', 'piece', '.', '<', 'br', '/', '>', '<', 'br', '/', '>', 'The', 'actors', 'are', 'extremely', 'well', 'chosen-', 'Michael', 'Sheen', 'not', 'only', '``', 'has', 'got', 'all', 'the', 'polari', \"''\", 'but', 'he', 'has', 'all', 'the', 'voices', 'down', 'pat', 'too', '!', 'You', 'can', 'truly', 'see', 'the', 'seamless', 'editing', 'guided', 'by', 'the', 'references', 'to', 'Williams', \"'\", 'diary', 'entries', ',', 'not', 'only', 'is', 'it', 'well', 'worth', 'the', 'watching', 'but', 'it', 'is', 'a', 'terrificly', 'written', 'and', 'performed', 'piece', '.', 'A', 'masterful', 'production', 'about', 'one', 'of', 'the', 'great', 'master', \"'s\", 'of', 'comedy', 'and', 'his', 'life', '.', '<', 'br', '/', '>', '<', 'br', '/', '>', 'The', 'realism', 'really', 'comes', 'home', 'with', 'the', 'little', 'things', ':', 'the', 'fantasy', 'of', 'the', 'guard', 'which', ',', 'rather', 'than', 'use', 'the', 'traditional', \"'dream\", \"'\", 'techniques', 'remains', 'solid', 'then', 'disappears', '.', 'It', 'plays', 'on', 'our', 'knowledge', 'and', 'our', 'senses', ',', 'particularly', 'with', 'the', 'scenes', 'concerning', 'Orton', 'and', 'Halliwell', 'and', 'the', 'sets', '(', 'particularly', 'of', 'their', 'flat', 'with', 'Halliwell', \"'s\", 'murals', 'decorating', 'every', 'surface', ')', 'are', 'terribly', 'well', 'done', '.']\n"
     ]
    }
   ],
   "source": [
    "df['review'] = df['review'].apply(word_tokenize)\n",
    "print(df['review'][1])"
   ]
  },
  {
   "cell_type": "markdown",
   "id": "5dbdc443-80e9-47bb-88bf-6f927f39f536",
   "metadata": {},
   "source": [
    "# 3-Cleaning Data\n",
    "We Will:\n",
    "- 1-Eliminate Special Characters\n",
    "- 2-Eliminate  StopWords \n",
    "- 3-LowerCase all the words"
   ]
  },
  {
   "cell_type": "code",
   "execution_count": 7,
   "id": "bde2a648-5c43-4d40-88c9-0ac81e24b28d",
   "metadata": {},
   "outputs": [],
   "source": [
    "#1- Alphanumerical Checker\n",
    "df['review'] = df['review'].apply(lambda x: [item for item in x if item.isalpha()])"
   ]
  },
  {
   "cell_type": "code",
   "execution_count": 8,
   "id": "c6f93047-fcd6-452d-9f2d-c38666c5ee31",
   "metadata": {},
   "outputs": [],
   "source": [
    "#2- Eliminate StopWords\n",
    "stop_words = set(stopwords.words('english'))\n",
    "df['review'] = df['review'].apply(lambda x: [item for item in x if item not in stop_words])"
   ]
  },
  {
   "cell_type": "code",
   "execution_count": 9,
   "id": "de00a9a8-a30a-4c04-9902-f57481bbcef1",
   "metadata": {},
   "outputs": [],
   "source": [
    "#3-LowerCase all words\n",
    "df['review'] = df['review'].apply(lambda x: [item.lower() for item in x])"
   ]
  },
  {
   "cell_type": "markdown",
   "id": "dfc3ac34-1260-41b2-9389-f1506f7fb438",
   "metadata": {},
   "source": [
    "- Preview After Cleaning"
   ]
  },
  {
   "cell_type": "code",
   "execution_count": 10,
   "id": "2db6c2f7-6c0c-494e-af43-8d3fc4e7fa6d",
   "metadata": {},
   "outputs": [
    {
     "name": "stdout",
     "output_type": "stream",
     "text": [
      "0        [one, reviewers, mentioned, watching, oz, epis...\n",
      "1        [a, wonderful, little, production, br, br, the...\n",
      "2        [i, thought, wonderful, way, spend, time, hot,...\n",
      "3        [basically, family, little, boy, jake, thinks,...\n",
      "4        [petter, mattei, love, time, money, visually, ...\n",
      "                               ...                        \n",
      "49995    [i, thought, movie, right, good, job, it, crea...\n",
      "49996    [bad, plot, bad, dialogue, bad, acting, idioti...\n",
      "49997    [i, catholic, taught, parochial, elementary, s...\n",
      "49998    [i, going, disagree, previous, comment, side, ...\n",
      "49999    [no, one, expects, star, trek, movies, high, a...\n",
      "Name: review, Length: 50000, dtype: object\n"
     ]
    }
   ],
   "source": [
    "print(df['review'])"
   ]
  },
  {
   "cell_type": "markdown",
   "id": "b46f95b0-fc16-4c15-aea4-399e73c55c1f",
   "metadata": {},
   "source": [
    "- Complete example after cleaning"
   ]
  },
  {
   "cell_type": "code",
   "execution_count": 11,
   "id": "94eb813b-2ea2-4748-a113-d5e4628880ea",
   "metadata": {},
   "outputs": [
    {
     "name": "stdout",
     "output_type": "stream",
     "text": [
      "['a', 'wonderful', 'little', 'production', 'br', 'br', 'the', 'filming', 'technique', 'fashion', 'gives', 'comforting', 'sometimes', 'discomforting', 'sense', 'realism', 'entire', 'piece', 'br', 'br', 'the', 'actors', 'extremely', 'well', 'michael', 'sheen', 'got', 'polari', 'voices', 'pat', 'you', 'truly', 'see', 'seamless', 'editing', 'guided', 'references', 'williams', 'diary', 'entries', 'well', 'worth', 'watching', 'terrificly', 'written', 'performed', 'piece', 'a', 'masterful', 'production', 'one', 'great', 'master', 'comedy', 'life', 'br', 'br', 'the', 'realism', 'really', 'comes', 'home', 'little', 'things', 'fantasy', 'guard', 'rather', 'use', 'traditional', 'techniques', 'remains', 'solid', 'disappears', 'it', 'plays', 'knowledge', 'senses', 'particularly', 'scenes', 'concerning', 'orton', 'halliwell', 'sets', 'particularly', 'flat', 'halliwell', 'murals', 'decorating', 'every', 'surface', 'terribly', 'well', 'done']\n"
     ]
    }
   ],
   "source": [
    "print(df['review'][1])"
   ]
  },
  {
   "cell_type": "markdown",
   "id": "ad90ff5b-6d25-4e62-b7bc-fee32970353e",
   "metadata": {},
   "source": [
    "# 4-Stemming "
   ]
  },
  {
   "cell_type": "code",
   "execution_count": 12,
   "id": "7b81a4b9-0bb0-4efb-a568-4af0d31d8331",
   "metadata": {},
   "outputs": [],
   "source": [
    "ps = PorterStemmer()\n",
    "df['review'] = df['review'].apply(lambda x: [ps.stem(item) for item in x])"
   ]
  },
  {
   "cell_type": "code",
   "execution_count": 13,
   "id": "8bd4a8b1-61c7-4c93-a9b1-f1a4981378e6",
   "metadata": {},
   "outputs": [
    {
     "name": "stdout",
     "output_type": "stream",
     "text": [
      "['a', 'wonder', 'littl', 'product', 'br', 'br', 'the', 'film', 'techniqu', 'fashion', 'give', 'comfort', 'sometim', 'discomfort', 'sens', 'realism', 'entir', 'piec', 'br', 'br', 'the', 'actor', 'extrem', 'well', 'michael', 'sheen', 'got', 'polari', 'voic', 'pat', 'you', 'truli', 'see', 'seamless', 'edit', 'guid', 'refer', 'william', 'diari', 'entri', 'well', 'worth', 'watch', 'terrificli', 'written', 'perform', 'piec', 'a', 'master', 'product', 'one', 'great', 'master', 'comedi', 'life', 'br', 'br', 'the', 'realism', 'realli', 'come', 'home', 'littl', 'thing', 'fantasi', 'guard', 'rather', 'use', 'tradit', 'techniqu', 'remain', 'solid', 'disappear', 'it', 'play', 'knowledg', 'sens', 'particularli', 'scene', 'concern', 'orton', 'halliwel', 'set', 'particularli', 'flat', 'halliwel', 'mural', 'decor', 'everi', 'surfac', 'terribl', 'well', 'done']\n"
     ]
    }
   ],
   "source": [
    "print(df['review'][1])"
   ]
  },
  {
   "cell_type": "markdown",
   "id": "ab4d47ee-76e0-4130-bfde-19e389f40ba7",
   "metadata": {},
   "source": [
    "- Joining Sentences "
   ]
  },
  {
   "cell_type": "code",
   "execution_count": 14,
   "id": "2548f2be-73e6-4d47-aab2-033479a12588",
   "metadata": {},
   "outputs": [
    {
     "name": "stdout",
     "output_type": "stream",
     "text": [
      "a wonder littl product br br the film techniqu fashion give comfort sometim discomfort sens realism entir piec br br the actor extrem well michael sheen got polari voic pat you truli see seamless edit guid refer william diari entri well worth watch terrificli written perform piec a master product one great master comedi life br br the realism realli come home littl thing fantasi guard rather use tradit techniqu remain solid disappear it play knowledg sens particularli scene concern orton halliwel set particularli flat halliwel mural decor everi surfac terribl well done\n"
     ]
    }
   ],
   "source": [
    "df['review'] = df['review'].apply(lambda x: \" \".join(x))\n",
    "print(df['review'][1])"
   ]
  },
  {
   "cell_type": "markdown",
   "id": "635ac4f2-60a4-43a9-8715-9586cf7a60bb",
   "metadata": {},
   "source": [
    "# 5- Setting Training Data and Test Data"
   ]
  },
  {
   "cell_type": "code",
   "execution_count": 15,
   "id": "e8095168-273a-4412-967f-d531936da8ef",
   "metadata": {},
   "outputs": [],
   "source": [
    "#Training and Testing reviews\n",
    "train_reviews = df.review[:40000]\n",
    "test_reviews = df.review[40000:]\n",
    "#Training and Testing Sentiments\n",
    "train_sentiments=df.sentiment[:40000]\n",
    "test_sentiments=df.sentiment[40000:]"
   ]
  },
  {
   "cell_type": "markdown",
   "id": "aeef1c4a-9090-458a-b958-c1621fab9d5d",
   "metadata": {},
   "source": [
    "# 6- CountVectorizer and LabelBinazer"
   ]
  },
  {
   "cell_type": "markdown",
   "id": "aacb3c16-9a6c-4d6c-8fc6-4d1f564f62be",
   "metadata": {},
   "source": [
    "Why CountVectorizer Used?:\n",
    "- CountVectorizer Creates a dictionary with the word associated and the times that it appears in the document\n",
    "- We fit the data to the model and then we transform the data into a matrix of token counts\n",
    "- converting string labels to numerical values(1/0) with LabelBinazer"
   ]
  },
  {
   "cell_type": "code",
   "execution_count": 16,
   "id": "a9290b3e-3af1-48d0-99de-3d6ca7ef115c",
   "metadata": {},
   "outputs": [],
   "source": [
    "#Count vectorizer for bag of words\n",
    "cv = CountVectorizer(min_df=1, max_df=1.0, ngram_range=(1, 3), stop_words=None)"
   ]
  },
  {
   "cell_type": "code",
   "execution_count": 17,
   "id": "c85ea130-a0bd-4cc5-b0c6-732943ca5867",
   "metadata": {},
   "outputs": [],
   "source": [
    "#fitting/transform training reviews + fitting test reviews\n",
    "cv_TrainReviews = cv.fit_transform(train_reviews)\n",
    "cv_TestReviews = cv.transform(test_reviews)"
   ]
  },
  {
   "cell_type": "code",
   "execution_count": 20,
   "id": "e251aa01-0b00-4b0f-8d8d-9cb1fce17e0d",
   "metadata": {},
   "outputs": [],
   "source": [
    "#Sentiment labelAnalizer \n",
    "lb = LabelBinarizer()\n",
    "lb_train_sentiments = lb.fit_transform(train_sentiments)\n",
    "lb_test_sentiments = lb.fit_transform(test_sentiments)"
   ]
  },
  {
   "cell_type": "markdown",
   "id": "31ec5d8e-434f-42b3-98f7-f9ed0612d031",
   "metadata": {},
   "source": [
    "# 7- Naive Bayes Classifier"
   ]
  },
  {
   "cell_type": "code",
   "execution_count": 21,
   "id": "014ddafa-8241-4ed7-a220-ac7668d28e04",
   "metadata": {},
   "outputs": [
    {
     "name": "stderr",
     "output_type": "stream",
     "text": [
      "c:\\Users\\matia\\anaconda3\\Lib\\site-packages\\sklearn\\utils\\validation.py:1408: DataConversionWarning: A column-vector y was passed when a 1d array was expected. Please change the shape of y to (n_samples, ), for example using ravel().\n",
      "  y = column_or_1d(y, warn=True)\n"
     ]
    },
    {
     "name": "stdout",
     "output_type": "stream",
     "text": [
      "Accuracy : 0.8875\n"
     ]
    }
   ],
   "source": [
    "#Naive Bayes Classifier\n",
    "mnb = MultinomialNB()\n",
    "#Fitting Bayes Model with training, label\n",
    "mnb_bow = mnb.fit(cv_TrainReviews,lb_train_sentiments)\n",
    "mnb_bow_predict = mnb.predict(cv_TestReviews)\n",
    "mnb_bow_score = accuracy_score(lb_test_sentiments, mnb_bow_predict)\n",
    "print(\"Accuracy :\", mnb_bow_score)"
   ]
  }
 ],
 "metadata": {
  "kernelspec": {
   "display_name": "base",
   "language": "python",
   "name": "python3"
  },
  "language_info": {
   "codemirror_mode": {
    "name": "ipython",
    "version": 3
   },
   "file_extension": ".py",
   "mimetype": "text/x-python",
   "name": "python",
   "nbconvert_exporter": "python",
   "pygments_lexer": "ipython3",
   "version": "3.13.5"
  }
 },
 "nbformat": 4,
 "nbformat_minor": 5
}
